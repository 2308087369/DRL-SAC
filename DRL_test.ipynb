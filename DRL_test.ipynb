{
 "cells": [
  {
   "cell_type": "code",
   "execution_count": null,
   "metadata": {},
   "outputs": [
    {
     "ename": "",
     "evalue": "",
     "output_type": "error",
     "traceback": [
      "\u001b[1;31m运行具有“.conda (Python 3.9.20)”的单元格需要ipykernel包。\n",
      "\u001b[1;31m运行以下命令，将 \"ipykernel\" 安装到 Python 环境中。\n",
      "\u001b[1;31m命令: \"conda install -p e:\\Pythonworkshop\\DRL_work\\.conda ipykernel --update-deps --force-reinstall\""
     ]
    }
   ],
   "source": [
    "import gym\n",
    "import stable_baselines3\n",
    "import optuna\n",
    "import numpy\n",
    "\n",
    "print(gym.__version__)\n",
    "print(stable_baselines3.__version__)\n",
    "print(optuna.__version__)\n",
    "print(numpy.__version__)\n"
   ]
  }
 ],
 "metadata": {
  "kernelspec": {
   "display_name": "Python 3",
   "language": "python",
   "name": "python3"
  },
  "language_info": {
   "name": "python",
   "version": "3.9.20"
  }
 },
 "nbformat": 4,
 "nbformat_minor": 2
}
